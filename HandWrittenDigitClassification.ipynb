{
  "nbformat": 4,
  "nbformat_minor": 0,
  "metadata": {
    "colab": {
      "name": "HandWrittenDigitClassification.ipynb",
      "provenance": [],
      "collapsed_sections": [],
      "include_colab_link": true
    },
    "kernelspec": {
      "name": "python3",
      "display_name": "Python 3"
    },
    "accelerator": "GPU"
  },
  "cells": [
    {
      "cell_type": "markdown",
      "metadata": {
        "id": "view-in-github",
        "colab_type": "text"
      },
      "source": [
        "<a href=\"https://colab.research.google.com/github/LoopThrough-i-j/HandWrittenDigitClassification/blob/master/HandWrittenDigitClassification.ipynb\" target=\"_parent\"><img src=\"https://colab.research.google.com/assets/colab-badge.svg\" alt=\"Open In Colab\"/></a>"
      ]
    },
    {
      "cell_type": "markdown",
      "metadata": {
        "id": "6Bwd9-9vF8s1",
        "colab_type": "text"
      },
      "source": [
        "# **Import Statements and Data Processing**\n",
        "\n",
        "\n",
        "\n",
        "\n",
        "\n",
        "1.   **The images are imported from the Keras datasets**\n",
        "2.   **Image preprocessing before training**\n",
        "\n",
        "---\n"
      ]
    },
    {
      "cell_type": "code",
      "metadata": {
        "id": "aYYEEo7fCOfb",
        "colab_type": "code",
        "colab": {}
      },
      "source": [
        "from tensorflow.keras.datasets import mnist #Contains the data set\n",
        "from tensorflow.keras.models import Sequential #The Type of model Used\n",
        "from tensorflow.keras.layers import Dense,Dropout,Conv2D,MaxPooling2D,Flatten,Activation #The Layers to be used\n",
        "import tensorflow as tf\n",
        "\n",
        "import matplotlib.pyplot as plt\n",
        "import numpy as np\n"
      ],
      "execution_count": 0,
      "outputs": []
    },
    {
      "cell_type": "code",
      "metadata": {
        "id": "CWDTopH9CekH",
        "colab_type": "code",
        "colab": {}
      },
      "source": [
        "(train_images,train_labels),(test_images,test_labels)=mnist.load_data()"
      ],
      "execution_count": 0,
      "outputs": []
    },
    {
      "cell_type": "code",
      "metadata": {
        "id": "FNdZXigaC91P",
        "colab_type": "code",
        "outputId": "c1a489b0-bf2b-44cf-9f96-17d00ab8fd56",
        "colab": {
          "base_uri": "https://localhost:8080/",
          "height": 286
        }
      },
      "source": [
        "plt.imshow(train_images[5])\n",
        "print(train_labels[5])"
      ],
      "execution_count": 0,
      "outputs": [
        {
          "output_type": "stream",
          "text": [
            "2\n"
          ],
          "name": "stdout"
        },
        {
          "output_type": "display_data",
          "data": {
            "image/png": "[encoded data removed]",
            "text/plain": [
              "<Figure size 432x288 with 1 Axes>"
            ]
          },
          "metadata": {
            "tags": []
          }
        }
      ]
    },
    {
      "cell_type": "markdown",
      "metadata": {
        "id": "MN7kulvzHTEl",
        "colab_type": "text"
      },
      "source": [
        "## **The images arrays or matrix are transformed in 2 ways as follows**\n",
        "\n",
        "\n",
        "1.   Each of the image intensities or matrix values are divided by 255 to get a value between 0 and 1\n",
        "2.   Each of the intensities above 0.6 now is converted to 1 and other to 0 .which will remove un-necessary noise or feather around the image\n",
        "\n",
        "---\n",
        "\n",
        "\n",
        "\n",
        "\n"
      ]
    },
    {
      "cell_type": "code",
      "metadata": {
        "id": "0KxxH7HvDiJL",
        "colab_type": "code",
        "colab": {}
      },
      "source": [
        "train_images=train_images/255"
      ],
      "execution_count": 0,
      "outputs": []
    },
    {
      "cell_type": "code",
      "metadata": {
        "id": "l873AgmVDyCw",
        "colab_type": "code",
        "outputId": "5124619e-9dba-4aaf-e333-1eb915c1fcf7",
        "colab": {
          "base_uri": "https://localhost:8080/",
          "height": 286
        }
      },
      "source": [
        "plt.imshow(train_images[5])\n",
        "print(train_labels[5])"
      ],
      "execution_count": 0,
      "outputs": [
        {
          "output_type": "stream",
          "text": [
            "2\n"
          ],
          "name": "stdout"
        },
        {
          "output_type": "display_data",
          "data": {
            "image/png": "[encoded data removed]",
            "text/plain": [
              "<Figure size 432x288 with 1 Axes>"
            ]
          },
          "metadata": {
            "tags": []
          }
        }
      ]
    },
    {
      "cell_type": "code",
      "metadata": {
        "id": "rgahMFblWetU",
        "colab_type": "code",
        "colab": {}
      },
      "source": [
        "train_images=np.array(train_images)\n",
        "test_images=np.array(test_images)"
      ],
      "execution_count": 0,
      "outputs": []
    },
    {
      "cell_type": "code",
      "metadata": {
        "id": "ggFgEwaGD5et",
        "colab_type": "code",
        "colab": {}
      },
      "source": [
        "test_images=test_images/255"
      ],
      "execution_count": 0,
      "outputs": []
    },
    {
      "cell_type": "code",
      "metadata": {
        "id": "e3pdMBG-EH1i",
        "colab_type": "code",
        "colab": {}
      },
      "source": [
        "test_images[test_images>=0.6]=1\n",
        "test_images[test_images<0.6]=0\n"
      ],
      "execution_count": 0,
      "outputs": []
    },
    {
      "cell_type": "code",
      "metadata": {
        "id": "2bBPCX70Er1R",
        "colab_type": "code",
        "outputId": "1b56e38f-7a1d-4425-d55d-706457563616",
        "colab": {
          "base_uri": "https://localhost:8080/",
          "height": 286
        }
      },
      "source": [
        "plt.imshow(test_images[7])\n",
        "print(test_labels[7])"
      ],
      "execution_count": 0,
      "outputs": [
        {
          "output_type": "stream",
          "text": [
            "9\n"
          ],
          "name": "stdout"
        },
        {
          "output_type": "display_data",
          "data": {
            "image/png": "[encoded data removed]",
            "text/plain": [
              "<Figure size 432x288 with 1 Axes>"
            ]
          },
          "metadata": {
            "tags": []
          }
        }
      ]
    },
    {
      "cell_type": "code",
      "metadata": {
        "id": "omoqFVbZE0XN",
        "colab_type": "code",
        "colab": {}
      },
      "source": [
        "train_images[train_images>=0.6]=1\n",
        "train_images[train_images<0.6]=0"
      ],
      "execution_count": 0,
      "outputs": []
    },
    {
      "cell_type": "code",
      "metadata": {
        "id": "oZeSlU2pFGzf",
        "colab_type": "code",
        "outputId": "985d2e0b-0808-44da-cb3a-12042cd2a55b",
        "colab": {
          "base_uri": "https://localhost:8080/",
          "height": 286
        }
      },
      "source": [
        "plt.imshow(train_images[5])\n",
        "print(train_labels[5])"
      ],
      "execution_count": 0,
      "outputs": [
        {
          "output_type": "stream",
          "text": [
            "2\n"
          ],
          "name": "stdout"
        },
        {
          "output_type": "display_data",
          "data": {
            "image/png": "[encoded data removed]",
            "text/plain": [
              "<Figure size 432x288 with 1 Axes>"
            ]
          },
          "metadata": {
            "tags": []
          }
        }
      ]
    },
    {
      "cell_type": "code",
      "metadata": {
        "id": "3cpAi4VQFHiB",
        "colab_type": "code",
        "outputId": "eb0a61e6-6d16-4a3e-e9d7-8aed2ad2802e",
        "colab": {
          "base_uri": "https://localhost:8080/",
          "height": 34
        }
      },
      "source": [
        "train_images[5].shape"
      ],
      "execution_count": 0,
      "outputs": [
        {
          "output_type": "execute_result",
          "data": {
            "text/plain": [
              "(28, 28)"
            ]
          },
          "metadata": {
            "tags": []
          },
          "execution_count": 44
        }
      ]
    },
    {
      "cell_type": "code",
      "metadata": {
        "id": "IEF125FyWJ_z",
        "colab_type": "code",
        "colab": {}
      },
      "source": [
        "train_images=train_images.reshape((60000,28,28,1))"
      ],
      "execution_count": 0,
      "outputs": []
    },
    {
      "cell_type": "code",
      "metadata": {
        "id": "Y4an73VdTiSW",
        "colab_type": "code",
        "colab": {}
      },
      "source": [
        "test_images=test_images.reshape((10000,28,28,1))"
      ],
      "execution_count": 0,
      "outputs": []
    },
    {
      "cell_type": "code",
      "metadata": {
        "id": "XQyw8dtpTkiD",
        "colab_type": "code",
        "outputId": "0f2814a3-db38-4045-820e-b9f31ea9b6d4",
        "colab": {
          "base_uri": "https://localhost:8080/",
          "height": 34
        }
      },
      "source": [
        "test_images.shape"
      ],
      "execution_count": 0,
      "outputs": [
        {
          "output_type": "execute_result",
          "data": {
            "text/plain": [
              "(10000, 28, 28, 1)"
            ]
          },
          "metadata": {
            "tags": []
          },
          "execution_count": 47
        }
      ]
    },
    {
      "cell_type": "markdown",
      "metadata": {
        "id": "EkxYHH53IYsE",
        "colab_type": "text"
      },
      "source": [
        "## Creating a Tensorflow model to Classify The images\n",
        "\n",
        "\n",
        "> The model is a sequential one, made up of convolutional layers and dense layers.\n",
        "\n"
      ]
    },
    {
      "cell_type": "code",
      "metadata": {
        "id": "urLY-uGZFNS-",
        "colab_type": "code",
        "colab": {}
      },
      "source": [
        "model=Sequential()\n",
        "\n",
        "\n",
        "model.add(Conv2D(64, (3,3), input_shape=(28,28,1)))\n",
        "model.add(MaxPooling2D(pool_size=(2,2)))\n",
        "model.add(Activation(\"relu\"))\n",
        "\n",
        "model.add(Conv2D(64, (3,3)))\n",
        "model.add(MaxPooling2D(pool_size=(2,2)))\n",
        "model.add(Activation(\"relu\"))\n",
        "\n",
        "model.add(Conv2D(64, (3,3), input_shape=(28,28)))\n",
        "model.add(MaxPooling2D(pool_size=(2,2)))\n",
        "model.add(Activation(\"relu\"))\n",
        "\n",
        "model.add(Flatten())\n",
        "\n",
        "\n",
        "model.add(Dense(10))\n",
        "model.add(Activation(\"sigmoid\"))\n",
        "\n",
        "model.compile(loss=\"sparse_categorical_crossentropy\",\n",
        "              optimizer=\"Adam\",\n",
        "              metrics=[\"accuracy\"])\n",
        "\n"
      ],
      "execution_count": 0,
      "outputs": []
    },
    {
      "cell_type": "code",
      "metadata": {
        "id": "sQGBozUxQ8Au",
        "colab_type": "code",
        "outputId": "3e258cc4-2eb1-48e0-816f-68e23ad2371e",
        "colab": {
          "base_uri": "https://localhost:8080/",
          "height": 561
        }
      },
      "source": [
        "model.fit(train_images,train_labels,batch_size=300,epochs=15)"
      ],
      "execution_count": 0,
      "outputs": [
        {
          "output_type": "stream",
          "text": [
            "Train on 60000 samples\n",
            "Epoch 1/15\n",
            "60000/60000 [==============================] - 4s 65us/sample - loss: 0.5264 - acc: 0.8365\n",
            "Epoch 2/15\n",
            "60000/60000 [==============================] - 4s 62us/sample - loss: 0.1444 - acc: 0.9563\n",
            "Epoch 3/15\n",
            "60000/60000 [==============================] - 4s 62us/sample - loss: 0.1029 - acc: 0.9689\n",
            "Epoch 4/15\n",
            "60000/60000 [==============================] - 4s 62us/sample - loss: 0.0848 - acc: 0.9741\n",
            "Epoch 5/15\n",
            "60000/60000 [==============================] - 4s 62us/sample - loss: 0.0729 - acc: 0.9785\n",
            "Epoch 6/15\n",
            "60000/60000 [==============================] - 4s 62us/sample - loss: 0.0637 - acc: 0.9804\n",
            "Epoch 7/15\n",
            "60000/60000 [==============================] - 4s 62us/sample - loss: 0.0550 - acc: 0.9830\n",
            "Epoch 8/15\n",
            "60000/60000 [==============================] - 4s 62us/sample - loss: 0.0502 - acc: 0.9841\n",
            "Epoch 9/15\n",
            "60000/60000 [==============================] - 4s 62us/sample - loss: 0.0448 - acc: 0.9863\n",
            "Epoch 10/15\n",
            "60000/60000 [==============================] - 4s 62us/sample - loss: 0.0402 - acc: 0.9877\n",
            "Epoch 11/15\n",
            "60000/60000 [==============================] - 4s 62us/sample - loss: 0.0379 - acc: 0.9887\n",
            "Epoch 12/15\n",
            "60000/60000 [==============================] - 4s 62us/sample - loss: 0.0325 - acc: 0.9899\n",
            "Epoch 13/15\n",
            "60000/60000 [==============================] - 4s 62us/sample - loss: 0.0289 - acc: 0.9910\n",
            "Epoch 14/15\n",
            "60000/60000 [==============================] - 4s 62us/sample - loss: 0.0265 - acc: 0.9911\n",
            "Epoch 15/15\n",
            "60000/60000 [==============================] - 4s 62us/sample - loss: 0.0236 - acc: 0.9929\n"
          ],
          "name": "stdout"
        },
        {
          "output_type": "execute_result",
          "data": {
            "text/plain": [
              "<tensorflow.python.keras.callbacks.History at 0x7f13800d66a0>"
            ]
          },
          "metadata": {
            "tags": []
          },
          "execution_count": 49
        }
      ]
    },
    {
      "cell_type": "markdown",
      "metadata": {
        "id": "ajtbrJyphOeT",
        "colab_type": "text"
      },
      "source": [
        "## **Testing The Model And Finding Accuracy**"
      ]
    },
    {
      "cell_type": "code",
      "metadata": {
        "id": "TkB9FGbudkCe",
        "colab_type": "code",
        "colab": {}
      },
      "source": [
        "count=0\n",
        "outputs=model.predict(np.array(test_images))\n",
        "for i in range(10000):\n",
        "    if outputs[i].argmax()==test_labels[i]:\n",
        "        count+=1\n",
        "        \n",
        "Accuracy=count/10000"
      ],
      "execution_count": 0,
      "outputs": []
    },
    {
      "cell_type": "code",
      "metadata": {
        "id": "d1AxYVPpe-bg",
        "colab_type": "code",
        "outputId": "64d240ef-f79f-4d5f-88c2-1f539f21215a",
        "colab": {
          "base_uri": "https://localhost:8080/",
          "height": 34
        }
      },
      "source": [
        "Accuracy"
      ],
      "execution_count": 0,
      "outputs": [
        {
          "output_type": "execute_result",
          "data": {
            "text/plain": [
              "0.9825"
            ]
          },
          "metadata": {
            "tags": []
          },
          "execution_count": 51
        }
      ]
    }
  ]
}